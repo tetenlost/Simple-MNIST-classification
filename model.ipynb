{
  "nbformat": 4,
  "nbformat_minor": 0,
  "metadata": {
    "colab": {
      "name": "Untitled4.ipynb",
      "provenance": []
    },
    "kernelspec": {
      "name": "python3",
      "display_name": "Python 3"
    },
    "language_info": {
      "name": "python"
    },
    "accelerator": "GPU",
    "gpuClass": "standard"
  },
  "cells": [
    {
      "cell_type": "markdown",
      "source": [
        "# CNN 手寫數字辨識實做\n",
        "此專項將使pytorch套件進行訓練與辨識\n",
        "該程式可以分為以下步驟\n",
        "1. 事前準備＆資料處理\n",
        "2. 模型建構\n",
        "3. 訓練參數設定\n",
        "4. 訓練\n",
        "5. 測試"
      ],
      "metadata": {
        "id": "ZaP7sZUqzA7e"
      }
    },
    {
      "cell_type": "markdown",
      "source": [
        "## 事前準備&資料處理\n",
        "在訓練前，要先載入AI套件（簡化資料處理與訓練過程）此部份使用\"pytorch\"進行訓練與資料處理\n",
        "\n",
        "我們須載入以下套件\n",
        "\n",
        "1. torch ->pytorch核心\n",
        "2. torch.nn ->AI模型套件（原torch內已存在此處為方便後續引用因此特別提出）\n",
        "3. torch.optim ->AI模型優化套件（原torch內已存在此處為方便後續引用因此特別提出）\n",
        "4. torch.utils.data -> 訓練資料處里套件（原torch內已存在此處為方便後續引用因此特別提出）\n",
        "5. torchvision ->pytorch影像處里套件\n",
        "\n"
      ],
      "metadata": {
        "id": "vsz6cq5SMAsT"
      }
    },
    {
      "cell_type": "code",
      "execution_count": 1,
      "metadata": {
        "id": "aqW6vh85djNo"
      },
      "outputs": [],
      "source": [
        "# 載入ai套件-pytorch\n",
        "import torch\n",
        "#載入torch.nn的類別(class)，並在此程式中以nn替代\n",
        "import torch.nn as nn\n",
        "#載入torch.optim的類別(class)，並在此程式中以optim替代\n",
        "import torch.optim as optim\n",
        "#載入torch.utils的類別(class)，並在此程式中以optim替代\n",
        "import torch.utils.data as dset\n",
        "#pytorch影像處里套件\n",
        "from torchvision import datasets, transforms"
      ]
    },
    {
      "cell_type": "markdown",
      "source": [
        "查看目前設備使否有可用之GPU\n",
        "\n",
        "另外可以使用-！nvidia-smi查看GPU參數"
      ],
      "metadata": {
        "id": "_jo56zpMx_CS"
      }
    },
    {
      "cell_type": "code",
      "source": [
        "!nvidia-smi"
      ],
      "metadata": {
        "colab": {
          "base_uri": "https://localhost:8080/"
        },
        "id": "SJsFMOHayirM",
        "outputId": "d0e17776-f01f-495f-f0ea-711c489a34c1"
      },
      "execution_count": 2,
      "outputs": [
        {
          "output_type": "stream",
          "name": "stdout",
          "text": [
            "Sun Aug 28 07:27:48 2022       \n",
            "+-----------------------------------------------------------------------------+\n",
            "| NVIDIA-SMI 460.32.03    Driver Version: 460.32.03    CUDA Version: 11.2     |\n",
            "|-------------------------------+----------------------+----------------------+\n",
            "| GPU  Name        Persistence-M| Bus-Id        Disp.A | Volatile Uncorr. ECC |\n",
            "| Fan  Temp  Perf  Pwr:Usage/Cap|         Memory-Usage | GPU-Util  Compute M. |\n",
            "|                               |                      |               MIG M. |\n",
            "|===============================+======================+======================|\n",
            "|   0  Tesla T4            Off  | 00000000:00:04.0 Off |                    0 |\n",
            "| N/A   52C    P8     9W /  70W |      0MiB / 15109MiB |      0%      Default |\n",
            "|                               |                      |                  N/A |\n",
            "+-------------------------------+----------------------+----------------------+\n",
            "                                                                               \n",
            "+-----------------------------------------------------------------------------+\n",
            "| Processes:                                                                  |\n",
            "|  GPU   GI   CI        PID   Type   Process name                  GPU Memory |\n",
            "|        ID   ID                                                   Usage      |\n",
            "|=============================================================================|\n",
            "|  No running processes found                                                 |\n",
            "+-----------------------------------------------------------------------------+\n"
          ]
        }
      ]
    },
    {
      "cell_type": "code",
      "source": [
        "# 查看目前可否使用GPU\n",
        "device = 'cuda:0' if torch.cuda.is_available() else 'cpu'\n",
        "print('GPU State:', device)"
      ],
      "metadata": {
        "colab": {
          "base_uri": "https://localhost:8080/"
        },
        "id": "M_Qopg3Y_fU2",
        "outputId": "937b0b37-46d0-4fe5-db95-1ca4567ea300"
      },
      "execution_count": 3,
      "outputs": [
        {
          "output_type": "stream",
          "name": "stdout",
          "text": [
            "GPU State: cuda:0\n"
          ]
        }
      ]
    },
    {
      "cell_type": "code",
      "source": [
        "# 宣告資料處理方式\n",
        "# 1.轉換格式成pytorch格式\n",
        "# 2.標準化\n",
        "transform = transforms.Compose([transforms.ToTensor(),transforms.Normalize((0.5,), (0.5,)),])"
      ],
      "metadata": {
        "id": "LeiIae-GLcTW"
      },
      "execution_count": 4,
      "outputs": []
    },
    {
      "cell_type": "markdown",
      "source": [
        "下載手寫數字辨識資料集\n",
        "\n",
        "並使用DataLoader將資料載入，並切分batch_size"
      ],
      "metadata": {
        "id": "UuiNV27lvZCK"
      }
    },
    {
      "cell_type": "code",
      "source": [
        "# 下載資料\n",
        "trainSet = datasets.MNIST(root='MNIST', download=True, train=True, transform=transform)\n",
        "testSet = datasets.MNIST(root='MNIST', download=True, train=False, transform=transform)\n",
        "trainLoader = dset.DataLoader(trainSet, batch_size=64, shuffle=True)\n",
        "testLoader = dset.DataLoader(testSet, batch_size=64, shuffle=False)"
      ],
      "metadata": {
        "id": "t_3KhqVfLhTf"
      },
      "execution_count": 32,
      "outputs": []
    },
    {
      "cell_type": "markdown",
      "source": [
        "## 模型建構"
      ],
      "metadata": {
        "id": "a1ufoyiRNOhG"
      }
    },
    {
      "cell_type": "markdown",
      "source": [
        "建立模型，使用nn.sequential建立AI模型\n",
        "本章提供2種模型供測試\n",
        "\n",
        "1.使用全連接層\n",
        "\n",
        "2.cnn+全連接層\n",
        "\n"
      ],
      "metadata": {
        "id": "lp5URHlVwq1h"
      }
    },
    {
      "cell_type": "code",
      "source": [
        "# Model\n",
        "class Net(nn.Module):\n",
        "    def __init__(self):\n",
        "        super(Net, self).__init__()\n",
        "        self.main = nn.Sequential(\n",
        "            nn.Linear(in_features=784, out_features=128),\n",
        "            nn.Linear(in_features=128, out_features=64),\n",
        "            nn.Linear(in_features=64, out_features=10),\n",
        "            nn.LogSoftmax(dim=1)\n",
        "        )\n",
        "\n",
        "    def forward(self, input):\n",
        "        return self.main(input)\n",
        "\n",
        "\n",
        "net = Net().to(device)\n",
        "print(net)"
      ],
      "metadata": {
        "colab": {
          "base_uri": "https://localhost:8080/"
        },
        "id": "Xsfr-5_-NaAn",
        "outputId": "bdc5b430-d518-4325-bfa1-6064eec29d8f"
      },
      "execution_count": 33,
      "outputs": [
        {
          "output_type": "stream",
          "name": "stdout",
          "text": [
            "Net(\n",
            "  (main): Sequential(\n",
            "    (0): Linear(in_features=784, out_features=128, bias=True)\n",
            "    (1): Linear(in_features=128, out_features=64, bias=True)\n",
            "    (2): Linear(in_features=64, out_features=10, bias=True)\n",
            "    (3): LogSoftmax(dim=1)\n",
            "  )\n",
            ")\n"
          ]
        }
      ]
    },
    {
      "cell_type": "code",
      "source": [
        "# Model\n",
        "class Net(nn.Module):\n",
        "    def __init__(self):\n",
        "        super(Net, self).__init__()\n",
        "        self.conv1 = nn.Sequential(         \n",
        "            nn.Conv2d(\n",
        "                in_channels=1,              \n",
        "                out_channels=16,            \n",
        "                kernel_size=3,              \n",
        "                stride=1,                   \n",
        "                padding=1,                  \n",
        "            ),                              \n",
        "            nn.ReLU(),                      \n",
        "            nn.MaxPool2d(kernel_size=2),    \n",
        "        )\n",
        "        self.conv2 = nn.Sequential(         \n",
        "            nn.Conv2d(\n",
        "                in_channels=16,              \n",
        "                out_channels=32,            \n",
        "                kernel_size=3,              \n",
        "                stride=1,                   \n",
        "                padding=1,                  \n",
        "            ),     \n",
        "            nn.ReLU(),                      \n",
        "            nn.MaxPool2d(kernel_size=2),                \n",
        "        )\n",
        "        self.conv3 = nn.Sequential(         \n",
        "            nn.Conv2d(\n",
        "                in_channels=32,              \n",
        "                out_channels=64,            \n",
        "                kernel_size=3,              \n",
        "                stride=1,                   \n",
        "                padding=1,                  \n",
        "            ),     \n",
        "            nn.ReLU(),                      \n",
        "            nn.MaxPool2d(kernel_size=2),                \n",
        "        )\n",
        "        # fully connected layer, output 10 classes\n",
        "        self.out = nn.Sequential(         \n",
        "            nn.Linear(576, 10),     \n",
        "            nn.LogSoftmax(dim=1)\n",
        "        )\n",
        "        \n",
        "    def forward(self, x):\n",
        "        x = self.conv1(x)\n",
        "        x = self.conv2(x)\n",
        "        x = self.conv3(x)\n",
        "        x = x.view(x.size(0), -1)       \n",
        "        output = self.out(x)\n",
        "        return output  \n",
        "net = Net().to(device)\n",
        "print(net)"
      ],
      "metadata": {
        "colab": {
          "base_uri": "https://localhost:8080/"
        },
        "id": "5LX1qw0kQQA6",
        "outputId": "5e78c757-b139-4366-dd46-1bdb74c28def"
      },
      "execution_count": 55,
      "outputs": [
        {
          "output_type": "stream",
          "name": "stdout",
          "text": [
            "Net(\n",
            "  (conv1): Sequential(\n",
            "    (0): Conv2d(1, 16, kernel_size=(3, 3), stride=(1, 1), padding=(1, 1))\n",
            "    (1): ReLU()\n",
            "    (2): MaxPool2d(kernel_size=2, stride=2, padding=0, dilation=1, ceil_mode=False)\n",
            "  )\n",
            "  (conv2): Sequential(\n",
            "    (0): Conv2d(16, 32, kernel_size=(3, 3), stride=(1, 1), padding=(1, 1))\n",
            "    (1): ReLU()\n",
            "    (2): MaxPool2d(kernel_size=2, stride=2, padding=0, dilation=1, ceil_mode=False)\n",
            "  )\n",
            "  (conv3): Sequential(\n",
            "    (0): Conv2d(32, 64, kernel_size=(3, 3), stride=(1, 1), padding=(1, 1))\n",
            "    (1): ReLU()\n",
            "    (2): MaxPool2d(kernel_size=2, stride=2, padding=0, dilation=1, ceil_mode=False)\n",
            "  )\n",
            "  (out): Sequential(\n",
            "    (0): Linear(in_features=576, out_features=10, bias=True)\n",
            "    (1): LogSoftmax(dim=1)\n",
            "  )\n",
            ")\n"
          ]
        }
      ]
    },
    {
      "cell_type": "markdown",
      "source": [
        "## 訓練\n",
        "\n",
        "\n",
        "*   **注意，使用兩種不同模型時，程式有部分需進行修改**\n",
        "* **使用CNN時，請將\"inputs = inputs.view(inputs.shape[0], -1)\"進行註解或刪除**\n",
        "\n",
        "\n",
        "\n"
      ],
      "metadata": {
        "id": "RJENaBuxNJU4"
      }
    },
    {
      "cell_type": "code",
      "source": [
        "# Train\n",
        "# Parameters\n",
        "#宣告要使用資料集訓練幾次\n",
        "epochs = 3\n",
        "#設定學習率(不建議設定超過0.5，太大會影像辨識成功率，太小會學太慢)\n",
        "lr = 0.002\n",
        "#設定誤差計算方式(大多數分類問題使用交叉熵損失)\n",
        "criterion = nn.CrossEntropyLoss()\n",
        "#設定模型權重優化策略&方式\n",
        "optimizer = optim.Adam(net.parameters(), lr=lr)\n",
        "#開始進行訓練\n",
        "for epoch in range(epochs):\n",
        "    running_loss = 0.0\n",
        "    #\n",
        "    for times, data in enumerate(trainLoader):\n",
        "        #從trainLoader中拿取訓練資料與真實值，並將其放入GPU中(\"to(device)\"\")\n",
        "        inputs, labels = data[0].to(device), data[1].to(device)\n",
        "        #使用CNN時請用\"#\"將下列程式註解\n",
        "        #inputs = inputs.view(inputs.shape[0], -1)\n",
        "\n",
        "        # Zero the parameter gradients\n",
        "        #初始化優化器的梯度\n",
        "        optimizer.zero_grad()\n",
        "        #將圖輸入進模型中，進行預測\n",
        "        outputs = net(inputs)\n",
        "        #計算與真實值間的誤差\n",
        "        loss = criterion(outputs, labels)\n",
        "        #反向傳播梯度&更新權重\n",
        "        loss.backward()\n",
        "        optimizer.step()\n",
        "\n",
        "        # Print statistics\n",
        "        #誤差加總(方便訓練人員進行觀測)&顯示\n",
        "        running_loss += loss.item()\n",
        "        if times % 100 == 99 or times+1 == len(trainLoader):\n",
        "            print('[%d/%d, %d/%d] loss: %.3f' % (epoch+1, epochs, times+1, len(trainLoader), running_loss/2000))\n",
        "\n",
        "print('Training Finished.')"
      ],
      "metadata": {
        "colab": {
          "base_uri": "https://localhost:8080/"
        },
        "id": "cnfv0ni_NgSb",
        "outputId": "6f14bb73-f56f-426a-ac82-6e81124e3010"
      },
      "execution_count": 56,
      "outputs": [
        {
          "output_type": "stream",
          "name": "stdout",
          "text": [
            "[1/3, 100/938] loss: 0.037\n",
            "[1/3, 200/938] loss: 0.045\n",
            "[1/3, 300/938] loss: 0.051\n",
            "[1/3, 400/938] loss: 0.056\n",
            "[1/3, 500/938] loss: 0.060\n",
            "[1/3, 600/938] loss: 0.064\n",
            "[1/3, 700/938] loss: 0.067\n",
            "[1/3, 800/938] loss: 0.070\n",
            "[1/3, 900/938] loss: 0.073\n",
            "[1/3, 938/938] loss: 0.074\n",
            "[2/3, 100/938] loss: 0.003\n",
            "[2/3, 200/938] loss: 0.005\n",
            "[2/3, 300/938] loss: 0.008\n",
            "[2/3, 400/938] loss: 0.009\n",
            "[2/3, 500/938] loss: 0.011\n",
            "[2/3, 600/938] loss: 0.014\n",
            "[2/3, 700/938] loss: 0.016\n",
            "[2/3, 800/938] loss: 0.018\n",
            "[2/3, 900/938] loss: 0.020\n",
            "[2/3, 938/938] loss: 0.021\n",
            "[3/3, 100/938] loss: 0.002\n",
            "[3/3, 200/938] loss: 0.003\n",
            "[3/3, 300/938] loss: 0.005\n",
            "[3/3, 400/938] loss: 0.006\n",
            "[3/3, 500/938] loss: 0.008\n",
            "[3/3, 600/938] loss: 0.010\n",
            "[3/3, 700/938] loss: 0.012\n",
            "[3/3, 800/938] loss: 0.013\n",
            "[3/3, 900/938] loss: 0.015\n",
            "[3/3, 938/938] loss: 0.016\n",
            "Training Finished.\n"
          ]
        }
      ]
    },
    {
      "cell_type": "markdown",
      "source": [
        "## 測試\n",
        "\n",
        "*   **注意，使用兩種不同模型時，程式有部分需進行修改**\n",
        "* **使用CNN時，請將\"inputs = inputs.view(inputs.shape[0], -1)\"進行註解或刪除**"
      ],
      "metadata": {
        "id": "BBO3-0k4nwac"
      }
    },
    {
      "cell_type": "code",
      "source": [
        "#測試整體準確度\n",
        "#創建計數器，紀錄測試總數數與正確判斷數\n",
        "correct = 0\n",
        "total = 0\n",
        "\n",
        "#宣告以下程式不計算梯度(加快速度&避免不小心動到權重)\n",
        "with torch.no_grad():\n",
        "    for data in testLoader:\n",
        "        #從testLoader中拿取訓練資料與真實值，並將其放入GPU中(\"to(device)\"\")\n",
        "        inputs, labels = data[0].to(device), data[1].to(device)\n",
        "        #使用CNN時請用\"#\"將下列程式註解，其用意是將圖像轉換成1維資訊\n",
        "        #inputs = inputs.view(inputs.shape[0], -1)\n",
        "        #將圖輸入進模型中，進行預測\n",
        "        outputs = net(inputs)\n",
        "        #將所預測之最大結果是為預測類別\n",
        "        _, predicted = torch.max(outputs.data, 1)\n",
        "        #計算總數&正確數\n",
        "        total += labels.size(0)\n",
        "        correct += (predicted == labels).sum().item()\n",
        "#顯示正確數/總數比率\n",
        "print('Accuracy of the network on the 10000 test images: %d %%' % (100*correct / total))\n",
        "\n",
        "#測試個別準確度\n",
        "#創建計數器，紀錄個數字出現次數與正確判斷數\n",
        "class_correct = [0 for i in range(10)]\n",
        "class_total = [0 for i in range(10)]\n",
        "#宣告以下程式不計算梯度\n",
        "with torch.no_grad():\n",
        "    for data in testLoader:\n",
        "        #從testLoader中拿取訓練資料與真實值，並將其放入GPU中(\"to(device)\"\")\n",
        "        inputs, labels = data[0].to(device), data[1].to(device)\n",
        "        #使用CNN時請用\"#\"將下列程式註解\n",
        "        #inputs = inputs.view(inputs.shape[0], -1)\n",
        "        #將圖輸入進模型中，進行預測\n",
        "        outputs = net(inputs)\n",
        "        #將所預測之最大結果是為預測類別\n",
        "        _, predicted = torch.max(outputs, 1)\n",
        "        #計算正確數\n",
        "        c = (predicted == labels).squeeze()\n",
        "        #統計每一類別正確數與數量\n",
        "        for i in range(10):\n",
        "            label = labels[i]\n",
        "            class_correct[label] += c[i].item()\n",
        "            class_total[label] += 1\n",
        "\n",
        "#顯示各類別正確數/總數比率\n",
        "for i in range(10):\n",
        "    print('Accuracy of %d: %3f' % (i, (class_correct[i]/class_total[i])))"
      ],
      "metadata": {
        "colab": {
          "base_uri": "https://localhost:8080/"
        },
        "id": "W5MEHLF1Njs4",
        "outputId": "2cc552c5-8bfc-432a-9121-6dab2f29b015"
      },
      "execution_count": 58,
      "outputs": [
        {
          "output_type": "stream",
          "name": "stdout",
          "text": [
            "Accuracy of the network on the 10000 test images: 98 %\n",
            "Accuracy of 0: 0.986842\n",
            "Accuracy of 1: 0.983784\n",
            "Accuracy of 2: 0.982558\n",
            "Accuracy of 3: 0.967949\n",
            "Accuracy of 4: 0.988701\n",
            "Accuracy of 5: 0.984127\n",
            "Accuracy of 6: 0.992188\n",
            "Accuracy of 7: 0.993902\n",
            "Accuracy of 8: 0.986014\n",
            "Accuracy of 9: 0.976048\n"
          ]
        }
      ]
    }
  ]
}